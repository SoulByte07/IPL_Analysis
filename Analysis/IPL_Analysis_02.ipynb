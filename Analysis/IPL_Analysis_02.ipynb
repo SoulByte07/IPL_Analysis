{
 "cells": [
  {
   "cell_type": "markdown",
   "id": "368c181e-32f5-4492-ba3b-fa814c61f55a",
   "metadata": {},
   "source": [
    "# IPL Winner Prediction - Feature Engineering\n",
    "# -------------------------------------------"
   ]
  },
  {
   "cell_type": "markdown",
   "id": "c595e953-31d8-4c19-8178-d5c35f6e3052",
   "metadata": {},
   "source": [
    "# Goal: Predict match winner using pre-match information"
   ]
  },
  {
   "cell_type": "markdown",
   "id": "58423736-250a-4b58-a913-810e37d159d5",
   "metadata": {},
   "source": [
    "## Step 1: Import libraries"
   ]
  },
  {
   "cell_type": "code",
   "execution_count": null,
   "id": "4be17af4-f1c0-4858-8396-e746c9d747f5",
   "metadata": {},
   "outputs": [],
   "source": [
    "import pandas as pd\n",
    "import matplotlib.pyplot as plt\n",
    "import seaborn as sns\n",
    "from sklearn.preprocessing import LabelEncoder\n",
    "from sklearn.model_selection import train_test_split\n",
    "from sklearn.ensemble import RandomForestClassifier\n",
    "from sklearn.metrics import accuracy_score"
   ]
  },
  {
   "cell_type": "code",
   "execution_count": null,
   "id": "e782522f-b32d-4c6e-a0f0-04a29dfe701b",
   "metadata": {},
   "outputs": [],
   "source": []
  }
 ],
 "metadata": {
  "kernelspec": {
   "display_name": "Python 3 (ipykernel)",
   "language": "python",
   "name": "python3"
  },
  "language_info": {
   "codemirror_mode": {
    "name": "ipython",
    "version": 3
   },
   "file_extension": ".py",
   "mimetype": "text/x-python",
   "name": "python",
   "nbconvert_exporter": "python",
   "pygments_lexer": "ipython3",
   "version": "3.13.3"
  }
 },
 "nbformat": 4,
 "nbformat_minor": 5
}
